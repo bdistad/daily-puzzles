{
 "cells": [
  {
   "cell_type": "markdown",
   "id": "8cbd053b-0f69-40f3-9184-ae09b89d0c90",
   "metadata": {},
   "source": [
    "# Majority Element\n",
    "Source: [LeetCode](https://leetcode.com/problems/majority-element/description/?envType=study-plan-v2&envId=top-interview-150)"
   ]
  },
  {
   "cell_type": "markdown",
   "id": "7f7f2c1c-06a8-488d-9134-e5c6499f8e3e",
   "metadata": {},
   "source": [
    "Given an array nums of size n, return the majority element.\n",
    "\n",
    "The majority element is the element that appears more than ⌊n / 2⌋ times. You may assume that the majority element always exists in the array.\n",
    "\n",
    "Example 1:\n",
    "\n",
    "Input: nums = [3,2,3]\n",
    "Output: 3\n",
    "\n",
    "Example 2:\n",
    "\n",
    "Input: nums = [2,2,1,1,1,2,2]\n",
    "Output: 2"
   ]
  },
  {
   "cell_type": "code",
   "execution_count": 40,
   "id": "4ea036dc-57b9-4b41-a20a-2793fa821033",
   "metadata": {
    "tags": []
   },
   "outputs": [],
   "source": [
    "from typing import List, Tuple\n",
    "\n",
    "def majority_element(nums: List[int]) -> Tuple:\n",
    "    \n",
    "    element_count = dict()\n",
    "    for i in nums:\n",
    "        element_count[i] = 0\n",
    "    \n",
    "    for i in nums:\n",
    "        element_count[i] = element_count[i]+1\n",
    "        \n",
    "    max_key = max(element_count, key=element_count.get)\n",
    "    max_value = element_count[max_key]\n",
    "    \n",
    "    \n",
    "    return max_key, max_value"
   ]
  }
 ],
 "metadata": {
  "kernelspec": {
   "display_name": "Python 3 (ipykernel)",
   "language": "python",
   "name": "python3"
  },
  "language_info": {
   "codemirror_mode": {
    "name": "ipython",
    "version": 3
   },
   "file_extension": ".py",
   "mimetype": "text/x-python",
   "name": "python",
   "nbconvert_exporter": "python",
   "pygments_lexer": "ipython3",
   "version": "3.11.4"
  }
 },
 "nbformat": 4,
 "nbformat_minor": 5
}
